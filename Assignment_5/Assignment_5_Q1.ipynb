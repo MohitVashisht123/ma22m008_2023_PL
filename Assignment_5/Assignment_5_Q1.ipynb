{
 "cells": [
  {
   "cell_type": "code",
   "execution_count": null,
   "id": "e3e05bc1",
   "metadata": {},
   "outputs": [],
   "source": [
    "# Q.1\n",
    "import numpy as np\n",
    "A=np.array([[4,5,6],[3,7,8],[8,6,7]])"
   ]
  },
  {
   "cell_type": "code",
   "execution_count": null,
   "id": "cd5e6feb",
   "metadata": {},
   "outputs": [],
   "source": [
    "def swaprow(i, j, A):\n",
    "    tmp = A[i, :].copy()  \n",
    "    A[i, :] = A[j, :]\n",
    "    A[j, :] = tmp\n",
    "    return A\n",
    "print(A)"
   ]
  },
  {
   "cell_type": "code",
   "execution_count": null,
   "id": "ad758d64",
   "metadata": {},
   "outputs": [],
   "source": [
    "k=swaprow(1,2,A)\n",
    "print(k)"
   ]
  },
  {
   "cell_type": "markdown",
   "id": "f8752b8c",
   "metadata": {},
   "source": [
    "Correctness:When we copy the variable without using copy, then the actual value of the variable is changed in python. This happens since variables in python are the pointers to the address location.This phenomenon modifies the matrix in place and also returns the modified matrix. To avoid it we use .copy() method"
   ]
  },
  {
   "cell_type": "code",
   "execution_count": null,
   "id": "959d25a6",
   "metadata": {},
   "outputs": [],
   "source": []
  }
 ],
 "metadata": {
  "kernelspec": {
   "display_name": "Python 3 (ipykernel)",
   "language": "python",
   "name": "python3"
  },
  "language_info": {
   "codemirror_mode": {
    "name": "ipython",
    "version": 3
   },
   "file_extension": ".py",
   "mimetype": "text/x-python",
   "name": "python",
   "nbconvert_exporter": "python",
   "pygments_lexer": "ipython3",
   "version": "3.9.13"
  }
 },
 "nbformat": 4,
 "nbformat_minor": 5
}
