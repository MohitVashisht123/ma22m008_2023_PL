{
 "cells": [
  {
   "cell_type": "code",
   "execution_count": 9,
   "id": "5376b164",
   "metadata": {},
   "outputs": [],
   "source": [
    "import numpy as np\n",
    "# Writing the function to create average operator\n",
    "def create_averaging_operator(n, k):\n",
    "    A = np.zeros((n - 1, n))\n",
    "    \n",
    "\n",
    "    i = 0\n",
    "#     Using the while loop to generate average matrix as described in the exercise\n",
    "    while i < n - 1:\n",
    "        A[i, i] = 1\n",
    "        j = 1\n",
    "        while j <= k:\n",
    "            if i + j < n:\n",
    "                A[i, i + j] = 1\n",
    "#             if i - j >= 0:\n",
    "                A[i, i - j] = 1\n",
    "            j += 1\n",
    "        i += 1\n",
    "\n",
    "                \n",
    "    row_sums = A.sum(axis=1)\n",
    "#     Normalizing the matrix\n",
    "    A /= row_sums[:, np.newaxis]  \n",
    "    \n",
    "    return A\n",
    "\n",
    "# Example usage:\n",
    "n = 20\n",
    "k = 2\n",
    "A = create_averaging_operator(n, k)\n",
    "# Calling the function\n"
   ]
  },
  {
   "cell_type": "code",
   "execution_count": 10,
   "id": "af2b3679",
   "metadata": {},
   "outputs": [
    {
     "name": "stdout",
     "output_type": "stream",
     "text": [
      "[ 0.2        -0.2         0.2        -0.2         0.2        -0.2\n",
      "  0.2        -0.2         0.2        -0.2         0.2        -0.2\n",
      "  0.2        -0.2         0.2        -0.2         0.2        -0.2\n",
      " -0.33333333]\n"
     ]
    }
   ],
   "source": [
    "n = 20\n",
    "k = 2\n",
    "# Making a numpy array x\n",
    "x = np.array([(-1) ** j for j in range(n)])\n",
    "\n",
    "result = np.dot(A, x)\n",
    "print(result)\n"
   ]
  },
  {
   "cell_type": "code",
   "execution_count": 11,
   "id": "1ecbce47",
   "metadata": {},
   "outputs": [
    {
     "name": "stdout",
     "output_type": "stream",
     "text": [
      "[37.51490946 19.84289845  1.25454432  3.00989102  5.35471802  7.9021999\n",
      " 10.60046956 13.78206396 17.84691165 22.881075   28.57470566 34.51742755\n",
      " 40.58955451 47.07618884 54.39542909 62.6997905  71.73080995 81.06544273\n",
      " 90.57638447]\n"
     ]
    }
   ],
   "source": [
    "n = 20\n",
    "k = 100\n",
    "x = np.linspace(0, 10, n)\n",
    "f = x**2 + 2 * np.sin(10 * x)\n",
    "result = np.dot(A, f)\n",
    "print(result)\n"
   ]
  },
  {
   "cell_type": "code",
   "execution_count": null,
   "id": "d51ec04d",
   "metadata": {},
   "outputs": [],
   "source": []
  },
  {
   "cell_type": "code",
   "execution_count": null,
   "id": "bf4818e4",
   "metadata": {},
   "outputs": [],
   "source": []
  },
  {
   "cell_type": "code",
   "execution_count": null,
   "id": "d49c1a65",
   "metadata": {},
   "outputs": [],
   "source": []
  },
  {
   "cell_type": "code",
   "execution_count": null,
   "id": "715a072e",
   "metadata": {},
   "outputs": [],
   "source": []
  }
 ],
 "metadata": {
  "kernelspec": {
   "display_name": "Python 3 (ipykernel)",
   "language": "python",
   "name": "python3"
  },
  "language_info": {
   "codemirror_mode": {
    "name": "ipython",
    "version": 3
   },
   "file_extension": ".py",
   "mimetype": "text/x-python",
   "name": "python",
   "nbconvert_exporter": "python",
   "pygments_lexer": "ipython3",
   "version": "3.9.13"
  }
 },
 "nbformat": 4,
 "nbformat_minor": 5
}
