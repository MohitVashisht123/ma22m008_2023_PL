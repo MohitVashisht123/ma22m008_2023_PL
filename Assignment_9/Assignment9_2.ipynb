{
 "cells": [
  {
   "cell_type": "code",
   "execution_count": 1,
   "id": "10a8dc2a",
   "metadata": {},
   "outputs": [],
   "source": [
    "import pandas as pd\n",
    "%matplotlib inline\n",
    "import seaborn; seaborn.set()\n",
    "iris = seaborn.load_dataset('iris')"
   ]
  },
  {
   "cell_type": "code",
   "execution_count": 2,
   "id": "bc382298",
   "metadata": {},
   "outputs": [
    {
     "name": "stdout",
     "output_type": "stream",
     "text": [
      "<bound method NDFrame.head of      sepal_length  sepal_width  petal_length  petal_width    species\n",
      "0             5.1          3.5           1.4          0.2     setosa\n",
      "1             4.9          3.0           1.4          0.2     setosa\n",
      "2             4.7          3.2           1.3          0.2     setosa\n",
      "3             4.6          3.1           1.5          0.2     setosa\n",
      "4             5.0          3.6           1.4          0.2     setosa\n",
      "..            ...          ...           ...          ...        ...\n",
      "145           6.7          3.0           5.2          2.3  virginica\n",
      "146           6.3          2.5           5.0          1.9  virginica\n",
      "147           6.5          3.0           5.2          2.0  virginica\n",
      "148           6.2          3.4           5.4          2.3  virginica\n",
      "149           5.9          3.0           5.1          1.8  virginica\n",
      "\n",
      "[150 rows x 5 columns]>\n"
     ]
    }
   ],
   "source": [
    "print(iris.head)"
   ]
  },
  {
   "cell_type": "code",
   "execution_count": 6,
   "id": "6fb48774",
   "metadata": {},
   "outputs": [
    {
     "name": "stdout",
     "output_type": "stream",
     "text": [
      "0      5.1\n",
      "1      4.9\n",
      "2      4.7\n",
      "3      4.6\n",
      "4      5.0\n",
      "50     7.0\n",
      "51     6.4\n",
      "52     6.9\n",
      "53     5.5\n",
      "54     6.5\n",
      "100    6.3\n",
      "101    5.8\n",
      "102    7.1\n",
      "103    6.3\n",
      "104    6.5\n",
      "Name: sepal_length, dtype: float64\n"
     ]
    }
   ],
   "source": [
    "# group_by operation\n",
    "iris_gp=iris.groupby('species')['sepal_length']\n",
    "print(iris_gp.head())"
   ]
  },
  {
   "cell_type": "code",
   "execution_count": 10,
   "id": "f52a5f0e",
   "metadata": {},
   "outputs": [
    {
     "name": "stdout",
     "output_type": "stream",
     "text": [
      "Species:setosa,Sepal_length:0     5.1\n",
      "1     4.9\n",
      "2     4.7\n",
      "3     4.6\n",
      "4     5.0\n",
      "5     5.4\n",
      "6     4.6\n",
      "7     5.0\n",
      "8     4.4\n",
      "9     4.9\n",
      "10    5.4\n",
      "11    4.8\n",
      "12    4.8\n",
      "13    4.3\n",
      "14    5.8\n",
      "15    5.7\n",
      "16    5.4\n",
      "17    5.1\n",
      "18    5.7\n",
      "19    5.1\n",
      "20    5.4\n",
      "21    5.1\n",
      "22    4.6\n",
      "23    5.1\n",
      "24    4.8\n",
      "25    5.0\n",
      "26    5.0\n",
      "27    5.2\n",
      "28    5.2\n",
      "29    4.7\n",
      "30    4.8\n",
      "31    5.4\n",
      "32    5.2\n",
      "33    5.5\n",
      "34    4.9\n",
      "35    5.0\n",
      "36    5.5\n",
      "37    4.9\n",
      "38    4.4\n",
      "39    5.1\n",
      "40    5.0\n",
      "41    4.5\n",
      "42    4.4\n",
      "43    5.0\n",
      "44    5.1\n",
      "45    4.8\n",
      "46    5.1\n",
      "47    4.6\n",
      "48    5.3\n",
      "49    5.0\n",
      "Name: sepal_length, dtype: float64\n",
      "Species:versicolor,Sepal_length:50    7.0\n",
      "51    6.4\n",
      "52    6.9\n",
      "53    5.5\n",
      "54    6.5\n",
      "55    5.7\n",
      "56    6.3\n",
      "57    4.9\n",
      "58    6.6\n",
      "59    5.2\n",
      "60    5.0\n",
      "61    5.9\n",
      "62    6.0\n",
      "63    6.1\n",
      "64    5.6\n",
      "65    6.7\n",
      "66    5.6\n",
      "67    5.8\n",
      "68    6.2\n",
      "69    5.6\n",
      "70    5.9\n",
      "71    6.1\n",
      "72    6.3\n",
      "73    6.1\n",
      "74    6.4\n",
      "75    6.6\n",
      "76    6.8\n",
      "77    6.7\n",
      "78    6.0\n",
      "79    5.7\n",
      "80    5.5\n",
      "81    5.5\n",
      "82    5.8\n",
      "83    6.0\n",
      "84    5.4\n",
      "85    6.0\n",
      "86    6.7\n",
      "87    6.3\n",
      "88    5.6\n",
      "89    5.5\n",
      "90    5.5\n",
      "91    6.1\n",
      "92    5.8\n",
      "93    5.0\n",
      "94    5.6\n",
      "95    5.7\n",
      "96    5.7\n",
      "97    6.2\n",
      "98    5.1\n",
      "99    5.7\n",
      "Name: sepal_length, dtype: float64\n",
      "Species:virginica,Sepal_length:100    6.3\n",
      "101    5.8\n",
      "102    7.1\n",
      "103    6.3\n",
      "104    6.5\n",
      "105    7.6\n",
      "106    4.9\n",
      "107    7.3\n",
      "108    6.7\n",
      "109    7.2\n",
      "110    6.5\n",
      "111    6.4\n",
      "112    6.8\n",
      "113    5.7\n",
      "114    5.8\n",
      "115    6.4\n",
      "116    6.5\n",
      "117    7.7\n",
      "118    7.7\n",
      "119    6.0\n",
      "120    6.9\n",
      "121    5.6\n",
      "122    7.7\n",
      "123    6.3\n",
      "124    6.7\n",
      "125    7.2\n",
      "126    6.2\n",
      "127    6.1\n",
      "128    6.4\n",
      "129    7.2\n",
      "130    7.4\n",
      "131    7.9\n",
      "132    6.4\n",
      "133    6.3\n",
      "134    6.1\n",
      "135    7.7\n",
      "136    6.3\n",
      "137    6.4\n",
      "138    6.0\n",
      "139    6.9\n",
      "140    6.7\n",
      "141    6.9\n",
      "142    5.8\n",
      "143    6.8\n",
      "144    6.7\n",
      "145    6.7\n",
      "146    6.3\n",
      "147    6.5\n",
      "148    6.2\n",
      "149    5.9\n",
      "Name: sepal_length, dtype: float64\n"
     ]
    }
   ],
   "source": [
    "for label,value in iris_gp:\n",
    "    print(f'Species:{label},Sepal_length:{value}')"
   ]
  },
  {
   "cell_type": "code",
   "execution_count": 11,
   "id": "746a2a5a",
   "metadata": {},
   "outputs": [
    {
     "name": "stdout",
     "output_type": "stream",
     "text": [
      "species\n",
      "setosa        5.006\n",
      "versicolor    5.936\n",
      "virginica     6.588\n",
      "Name: sepal_length, dtype: float64\n"
     ]
    }
   ],
   "source": [
    "mean_sepal=iris_gp.mean()\n",
    "print(mean_sepal)"
   ]
  },
  {
   "cell_type": "code",
   "execution_count": 13,
   "id": "9bd64594",
   "metadata": {},
   "outputs": [],
   "source": [
    "species=mean_sepal.index"
   ]
  },
  {
   "cell_type": "code",
   "execution_count": 14,
   "id": "c5badcab",
   "metadata": {},
   "outputs": [
    {
     "name": "stdout",
     "output_type": "stream",
     "text": [
      "Index(['setosa', 'versicolor', 'virginica'], dtype='object', name='species')\n"
     ]
    }
   ],
   "source": [
    "print(species)"
   ]
  },
  {
   "cell_type": "code",
   "execution_count": 16,
   "id": "35afb823",
   "metadata": {},
   "outputs": [
    {
     "data": {
      "image/png": "[encoded data removed]",
      "text/plain": [
       "<Figure size 800x600 with 1 Axes>"
      ]
     },
     "metadata": {},
     "output_type": "display_data"
    }
   ],
   "source": [
    "# Plotting of graph\n",
    "import matplotlib.pyplot as plt\n",
    "plt.figure(figsize=(8,6))\n",
    "plt.bar(species,mean_sepal)\n",
    "plt.xlabel('species')\n",
    "plt.ylabel('mean_sepal')\n",
    "plt.show()\n"
   ]
  },
  {
   "cell_type": "code",
   "execution_count": 18,
   "id": "6e3fbaee",
   "metadata": {},
   "outputs": [],
   "source": [
    "import numpy as np\n",
    "pro=iris.groupby('species')['petal_length'].agg([np.min,np.max,np.mean])"
   ]
  },
  {
   "cell_type": "code",
   "execution_count": 19,
   "id": "2ca62214",
   "metadata": {},
   "outputs": [
    {
     "name": "stdout",
     "output_type": "stream",
     "text": [
      "            amin  amax   mean\n",
      "species                      \n",
      "setosa       1.0   1.9  1.462\n",
      "versicolor   3.0   5.1  4.260\n",
      "virginica    4.5   6.9  5.552\n"
     ]
    }
   ],
   "source": [
    "print(pro)"
   ]
  },
  {
   "cell_type": "code",
   "execution_count": null,
   "id": "b1f17d8f",
   "metadata": {},
   "outputs": [],
   "source": []
  }
 ],
 "metadata": {
  "kernelspec": {
   "display_name": "Python 3 (ipykernel)",
   "language": "python",
   "name": "python3"
  },
  "language_info": {
   "codemirror_mode": {
    "name": "ipython",
    "version": 3
   },
   "file_extension": ".py",
   "mimetype": "text/x-python",
   "name": "python",
   "nbconvert_exporter": "python",
   "pygments_lexer": "ipython3",
   "version": "3.9.13"
  }
 },
 "nbformat": 4,
 "nbformat_minor": 5
}
