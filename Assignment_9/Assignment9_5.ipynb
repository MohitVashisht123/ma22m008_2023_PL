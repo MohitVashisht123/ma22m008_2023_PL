{
 "cells": [
  {
   "cell_type": "code",
   "execution_count": 1,
   "id": "5a5c2b31",
   "metadata": {},
   "outputs": [],
   "source": [
    "import numpy as np\n",
    "import pandas as pd\n",
    "import seaborn"
   ]
  },
  {
   "cell_type": "code",
   "execution_count": 2,
   "id": "3caf5ba5",
   "metadata": {},
   "outputs": [
    {
     "data": {
      "text/html": [
       "<div>\n",
       "<style scoped>\n",
       "    .dataframe tbody tr th:only-of-type {\n",
       "        vertical-align: middle;\n",
       "    }\n",
       "\n",
       "    .dataframe tbody tr th {\n",
       "        vertical-align: top;\n",
       "    }\n",
       "\n",
       "    .dataframe thead th {\n",
       "        text-align: right;\n",
       "    }\n",
       "</style>\n",
       "<table border=\"1\" class=\"dataframe\">\n",
       "  <thead>\n",
       "    <tr style=\"text-align: right;\">\n",
       "      <th></th>\n",
       "      <th>survived</th>\n",
       "      <th>pclass</th>\n",
       "      <th>sex</th>\n",
       "      <th>age</th>\n",
       "      <th>sibsp</th>\n",
       "      <th>parch</th>\n",
       "      <th>fare</th>\n",
       "      <th>embarked</th>\n",
       "      <th>class</th>\n",
       "      <th>who</th>\n",
       "      <th>adult_male</th>\n",
       "      <th>deck</th>\n",
       "      <th>embark_town</th>\n",
       "      <th>alive</th>\n",
       "      <th>alone</th>\n",
       "    </tr>\n",
       "  </thead>\n",
       "  <tbody>\n",
       "    <tr>\n",
       "      <th>0</th>\n",
       "      <td>0</td>\n",
       "      <td>3</td>\n",
       "      <td>male</td>\n",
       "      <td>22.0</td>\n",
       "      <td>1</td>\n",
       "      <td>0</td>\n",
       "      <td>7.2500</td>\n",
       "      <td>S</td>\n",
       "      <td>Third</td>\n",
       "      <td>man</td>\n",
       "      <td>True</td>\n",
       "      <td>NaN</td>\n",
       "      <td>Southampton</td>\n",
       "      <td>no</td>\n",
       "      <td>False</td>\n",
       "    </tr>\n",
       "    <tr>\n",
       "      <th>1</th>\n",
       "      <td>1</td>\n",
       "      <td>1</td>\n",
       "      <td>female</td>\n",
       "      <td>38.0</td>\n",
       "      <td>1</td>\n",
       "      <td>0</td>\n",
       "      <td>71.2833</td>\n",
       "      <td>C</td>\n",
       "      <td>First</td>\n",
       "      <td>woman</td>\n",
       "      <td>False</td>\n",
       "      <td>C</td>\n",
       "      <td>Cherbourg</td>\n",
       "      <td>yes</td>\n",
       "      <td>False</td>\n",
       "    </tr>\n",
       "    <tr>\n",
       "      <th>2</th>\n",
       "      <td>1</td>\n",
       "      <td>3</td>\n",
       "      <td>female</td>\n",
       "      <td>26.0</td>\n",
       "      <td>0</td>\n",
       "      <td>0</td>\n",
       "      <td>7.9250</td>\n",
       "      <td>S</td>\n",
       "      <td>Third</td>\n",
       "      <td>woman</td>\n",
       "      <td>False</td>\n",
       "      <td>NaN</td>\n",
       "      <td>Southampton</td>\n",
       "      <td>yes</td>\n",
       "      <td>True</td>\n",
       "    </tr>\n",
       "    <tr>\n",
       "      <th>3</th>\n",
       "      <td>1</td>\n",
       "      <td>1</td>\n",
       "      <td>female</td>\n",
       "      <td>35.0</td>\n",
       "      <td>1</td>\n",
       "      <td>0</td>\n",
       "      <td>53.1000</td>\n",
       "      <td>S</td>\n",
       "      <td>First</td>\n",
       "      <td>woman</td>\n",
       "      <td>False</td>\n",
       "      <td>C</td>\n",
       "      <td>Southampton</td>\n",
       "      <td>yes</td>\n",
       "      <td>False</td>\n",
       "    </tr>\n",
       "    <tr>\n",
       "      <th>4</th>\n",
       "      <td>0</td>\n",
       "      <td>3</td>\n",
       "      <td>male</td>\n",
       "      <td>35.0</td>\n",
       "      <td>0</td>\n",
       "      <td>0</td>\n",
       "      <td>8.0500</td>\n",
       "      <td>S</td>\n",
       "      <td>Third</td>\n",
       "      <td>man</td>\n",
       "      <td>True</td>\n",
       "      <td>NaN</td>\n",
       "      <td>Southampton</td>\n",
       "      <td>no</td>\n",
       "      <td>True</td>\n",
       "    </tr>\n",
       "  </tbody>\n",
       "</table>\n",
       "</div>"
      ],
      "text/plain": [
       "   survived  pclass     sex   age  sibsp  parch     fare embarked  class  \\\n",
       "0         0       3    male  22.0      1      0   7.2500        S  Third   \n",
       "1         1       1  female  38.0      1      0  71.2833        C  First   \n",
       "2         1       3  female  26.0      0      0   7.9250        S  Third   \n",
       "3         1       1  female  35.0      1      0  53.1000        S  First   \n",
       "4         0       3    male  35.0      0      0   8.0500        S  Third   \n",
       "\n",
       "     who  adult_male deck  embark_town alive  alone  \n",
       "0    man        True  NaN  Southampton    no  False  \n",
       "1  woman       False    C    Cherbourg   yes  False  \n",
       "2  woman       False  NaN  Southampton   yes   True  \n",
       "3  woman       False    C  Southampton   yes  False  \n",
       "4    man        True  NaN  Southampton    no   True  "
      ]
     },
     "execution_count": 2,
     "metadata": {},
     "output_type": "execute_result"
    }
   ],
   "source": [
    "t = seaborn.load_dataset('titanic')\n",
    "t.head()"
   ]
  },
  {
   "cell_type": "code",
   "execution_count": 5,
   "id": "7944ba16",
   "metadata": {},
   "outputs": [
    {
     "name": "stdout",
     "output_type": "stream",
     "text": [
      "Index(['survived', 'pclass', 'sex', 'age', 'sibsp', 'parch', 'fare',\n",
      "       'embarked', 'class', 'who', 'adult_male', 'deck', 'embark_town',\n",
      "       'alive', 'alone'],\n",
      "      dtype='object')\n"
     ]
    }
   ],
   "source": [
    "print(t.columns)"
   ]
  },
  {
   "cell_type": "code",
   "execution_count": 3,
   "id": "b0b05bf6",
   "metadata": {},
   "outputs": [
    {
     "name": "stdout",
     "output_type": "stream",
     "text": [
      " number of passengers: 891\n"
     ]
    }
   ],
   "source": [
    "import pandas as pd\n",
    "\n",
    "\n",
    "\n",
    "#  number of passengers\n",
    "num = t.shape[0]\n",
    "print(\" number of passengers:\", num)\n"
   ]
  },
  {
   "cell_type": "code",
   "execution_count": 6,
   "id": "16c25956",
   "metadata": {},
   "outputs": [
    {
     "name": "stdout",
     "output_type": "stream",
     "text": [
      "Number of distinct values  3\n"
     ]
    }
   ],
   "source": [
    "distinct_values = t['who'].nunique()\n",
    "print(\"Number of distinct values \", distinct_values)\n"
   ]
  },
  {
   "cell_type": "code",
   "execution_count": 7,
   "id": "56efd446",
   "metadata": {},
   "outputs": [
    {
     "name": "stdout",
     "output_type": "stream",
     "text": [
      "Missing values in each column:\n",
      "survived         0\n",
      "pclass           0\n",
      "sex              0\n",
      "age            177\n",
      "sibsp            0\n",
      "parch            0\n",
      "fare             0\n",
      "embarked         2\n",
      "class            0\n",
      "who              0\n",
      "adult_male       0\n",
      "deck           688\n",
      "embark_town      2\n",
      "alive            0\n",
      "alone            0\n",
      "dtype: int64\n"
     ]
    }
   ],
   "source": [
    "missing_values = t.isna().sum()\n",
    "print(\"Missing values in each column:\")\n",
    "print(missing_values)\n"
   ]
  },
  {
   "cell_type": "code",
   "execution_count": 8,
   "id": "4e036a4f",
   "metadata": {},
   "outputs": [
    {
     "name": "stdout",
     "output_type": "stream",
     "text": [
      "Number of passengers over 60 years old: 22\n"
     ]
    }
   ],
   "source": [
    "pass_over_60 = t[t['age'] > 60]\n",
    "num_pass= pass_over_60.shape[0]\n",
    "print(\"Number of passengers over 60 years old:\", num_pass)\n"
   ]
  },
  {
   "cell_type": "code",
   "execution_count": 9,
   "id": "22e5818f",
   "metadata": {},
   "outputs": [
    {
     "data": {
      "image/png": "[encoded data removed]",
      "text/plain": [
       "<Figure size 640x480 with 1 Axes>"
      ]
     },
     "metadata": {},
     "output_type": "display_data"
    }
   ],
   "source": [
    "import matplotlib.pyplot as plt\n",
    "\n",
    "plt.hist(t['age'].dropna(), bins=20, edgecolor='k')\n",
    "plt.xlabel('Age')\n",
    "plt.ylabel('Number of Passengers')\n",
    "plt.title('Passenger Age Distribution')\n",
    "plt.show()\n"
   ]
  },
  {
   "cell_type": "code",
   "execution_count": 10,
   "id": "6f1d3407",
   "metadata": {},
   "outputs": [
    {
     "name": "stdout",
     "output_type": "stream",
     "text": [
      "3-Quantiles of Passenger Age Distribution:\n",
      "0.25    20.125\n",
      "0.50    28.000\n",
      "0.75    38.000\n",
      "Name: age, dtype: float64\n"
     ]
    }
   ],
   "source": [
    "quantiles = t['age'].quantile([0.25, 0.50, 0.75])\n",
    "print(\"3-Quantiles of Passenger Age Distribution:\")\n",
    "print(quantiles)\n"
   ]
  },
  {
   "cell_type": "code",
   "execution_count": 11,
   "id": "ea671f83",
   "metadata": {},
   "outputs": [],
   "source": [
    "# Dropping passengers with missing 'embarked' data\n",
    "t.dropna(subset=['embarked'], inplace=True)\n"
   ]
  },
  {
   "cell_type": "code",
   "execution_count": 12,
   "id": "02a2f288",
   "metadata": {},
   "outputs": [
    {
     "name": "stdout",
     "output_type": "stream",
     "text": [
      "Average Fare: 32.09668087739029\n",
      "Minimum Fare: 0.0\n",
      "Maximum Fare: 512.3292\n"
     ]
    }
   ],
   "source": [
    "\n",
    "avg=['fare'].mean()\n",
    "\n",
    "\n",
    "min = t['fare'].min()\n",
    "\n",
    "\n",
    "\n",
    "max= t['fare'].max()\n",
    "\n",
    "print(\"Average Fare:\", avg)\n",
    "\n",
    "\n",
    "print(\"Minimum Fare:\", min)\n",
    "\n",
    "\n",
    "print(\"Maximum Fare:\", max)\n"
   ]
  },
  {
   "cell_type": "code",
   "execution_count": 13,
   "id": "b94bb49a",
   "metadata": {},
   "outputs": [
    {
     "name": "stdout",
     "output_type": "stream",
     "text": [
      "Proportions of Passengers in Different Classes:\n",
      "Third     0.552306\n",
      "First     0.240720\n",
      "Second    0.206974\n",
      "Name: class, dtype: float64\n"
     ]
    }
   ],
   "source": [
    "# Calculating proportions of passengers in different classes\n",
    "class_proportions = t['class'].value_counts(normalize=True)\n",
    "\n",
    "print(\"Proportions of Passengers in Different Classes:\")\n",
    "print(class_proportions)\n"
   ]
  },
  {
   "cell_type": "code",
   "execution_count": 13,
   "id": "421e65bd",
   "metadata": {},
   "outputs": [
    {
     "name": "stdout",
     "output_type": "stream",
     "text": [
      "sex     female  male\n",
      "class               \n",
      "First       94   122\n",
      "Second      76   108\n",
      "Third      144   347\n",
      "Female to Male Ratio in Each Travel Class:\n",
      "sex     female_to_male_ratio\n",
      "class                       \n",
      "First               0.770492\n",
      "Second              0.703704\n",
      "Third               0.414986\n"
     ]
    }
   ],
   "source": [
    "# Calculating female to male ratio in each travel class\n",
    "ratio = t.groupby(['class', 'sex']).size().unstack(fill_value=0)\n",
    "print(ratio)\n",
    "ratio['female_to_male_ratio'] = ratio['female'] / ratio['male']\n",
    "\n",
    "print(\"Female to Male Ratio in Each Travel Class:\")\n",
    "print(ratio[['female_to_male_ratio']])\n"
   ]
  },
  {
   "cell_type": "code",
   "execution_count": 15,
   "id": "73f44a1f",
   "metadata": {},
   "outputs": [
    {
     "name": "stdout",
     "output_type": "stream",
     "text": [
      "Fraction of Passengers Who Survived: 0.38245219347581555\n"
     ]
    }
   ],
   "source": [
    "# fraction of passengers who survived\n",
    "survival_fraction = (t['survived'] == 1).mean()\n",
    "\n",
    "print(\"Fraction of Passengers Who Survived:\", survival_fraction)\n"
   ]
  },
  {
   "cell_type": "code",
   "execution_count": 14,
   "id": "0250ebc9",
   "metadata": {},
   "outputs": [
    {
     "name": "stdout",
     "output_type": "stream",
     "text": [
      "sex\n",
      "female    0.742038\n",
      "male      0.188908\n",
      "Name: survived, dtype: float64\n",
      "Survival Rates by Gender:\n",
      "sex\n",
      "female    0.742038\n",
      "male      0.188908\n",
      "Name: survived, dtype: float64\n"
     ]
    }
   ],
   "source": [
    "# survival rates for male and female passengers\n",
    "survival_rates = t.groupby('sex')['survived'].mean()\n",
    "print(survival_rates)\n",
    "\n",
    "print(\"Survival Rates by Gender:\")\n",
    "print(survival_rates)\n"
   ]
  },
  {
   "cell_type": "code",
   "execution_count": 17,
   "id": "c58bc21f",
   "metadata": {},
   "outputs": [
    {
     "name": "stdout",
     "output_type": "stream",
     "text": [
      "Survival Rates by Class:\n",
      "class\n",
      "First     0.626168\n",
      "Second    0.472826\n",
      "Third     0.242363\n",
      "Name: survived, dtype: float64\n"
     ]
    }
   ],
   "source": [
    "# survival rates for passengers in different classes\n",
    "survival_rates_by_class = t.groupby('class')['survived'].mean()\n",
    "\n",
    "print(\"Survival Rates by Class:\")\n",
    "print(survival_rates_by_class)\n"
   ]
  },
  {
   "cell_type": "code",
   "execution_count": 18,
   "id": "a6379b56",
   "metadata": {},
   "outputs": [
    {
     "name": "stdout",
     "output_type": "stream",
     "text": [
      "Survival Rate Dependencies on Class and Gender:\n",
      "sex       female      male\n",
      "class                     \n",
      "First   0.967391  0.368852\n",
      "Second  0.921053  0.157407\n",
      "Third   0.500000  0.135447\n"
     ]
    }
   ],
   "source": [
    "#  pivot table for survival rates by class and gender\n",
    "survival_table = t.pivot_table(index='class', columns='sex', values='survived', aggfunc='mean')\n",
    "\n",
    "print(\"Survival Rate Dependencies on Class and Gender:\")\n",
    "print(survival_table)\n"
   ]
  },
  {
   "cell_type": "code",
   "execution_count": 15,
   "id": "5126217b",
   "metadata": {},
   "outputs": [
    {
     "name": "stdout",
     "output_type": "stream",
     "text": [
      " Number of Survivors and Average Fare by Gender and Class:\n",
      "                     fare  survived\n",
      "sex    class                       \n",
      "female First   106.125798        91\n",
      "       Second   21.970121        70\n",
      "       Third    16.118810        72\n",
      "male   First    67.226127        45\n",
      "       Second   19.741782        17\n",
      "       Third    12.661633        47\n"
     ]
    }
   ],
   "source": [
    "# pivot table for number of survivors and average fare by gender and class\n",
    "table = t.pivot_table(index=['sex', 'class'], values=['survived', 'fare'], aggfunc={'survived': 'sum', 'fare': 'mean'})\n",
    "\n",
    "print(\" Number of Survivors and Average Fare by Gender and Class:\")\n",
    "print(table)\n",
    "\n"
   ]
  },
  {
   "cell_type": "code",
   "execution_count": null,
   "id": "709ac41c",
   "metadata": {},
   "outputs": [],
   "source": []
  }
 ],
 "metadata": {
  "kernelspec": {
   "display_name": "Python 3 (ipykernel)",
   "language": "python",
   "name": "python3"
  },
  "language_info": {
   "codemirror_mode": {
    "name": "ipython",
    "version": 3
   },
   "file_extension": ".py",
   "mimetype": "text/x-python",
   "name": "python",
   "nbconvert_exporter": "python",
   "pygments_lexer": "ipython3",
   "version": "3.9.13"
  }
 },
 "nbformat": 4,
 "nbformat_minor": 5
}
