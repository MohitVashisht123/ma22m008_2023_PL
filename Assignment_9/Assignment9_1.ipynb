{
 "cells": [
  {
   "cell_type": "code",
   "execution_count": 4,
   "id": "302293be",
   "metadata": {},
   "outputs": [
    {
     "name": "stdout",
     "output_type": "stream",
     "text": [
      "1    b\n",
      "2    a\n",
      "3    c\n",
      "dtype: object\n"
     ]
    }
   ],
   "source": [
    "import pandas as pd\n",
    "dct={2:'a',1:'b',3:'c'}\n",
    "s=pd.Series(dct)\n",
    "s=s.sort_index()\n",
    "print(s)"
   ]
  },
  {
   "cell_type": "code",
   "execution_count": 6,
   "id": "13b45dca",
   "metadata": {},
   "outputs": [],
   "source": [
    "d1={'a':1,'b':2}\n",
    "d2={'b':3,'c':4}\n",
    "df=pd.DataFrame({'d1':d1,'d2':d2})"
   ]
  },
  {
   "cell_type": "code",
   "execution_count": 7,
   "id": "469ad38a",
   "metadata": {},
   "outputs": [],
   "source": [
    "col_1=df['d1']\n",
    "col_2=df['d2']"
   ]
  },
  {
   "cell_type": "code",
   "execution_count": 10,
   "id": "8686dce5",
   "metadata": {},
   "outputs": [
    {
     "name": "stdout",
     "output_type": "stream",
     "text": [
      "    d1  d2\n",
      "a  1.0 NaN\n"
     ]
    }
   ],
   "source": [
    "rows=df.iloc[0:1]\n",
    "print(rows)\n"
   ]
  },
  {
   "cell_type": "code",
   "execution_count": 11,
   "id": "59ccb00b",
   "metadata": {},
   "outputs": [],
   "source": [
    "# Explicit_slicing\n",
    "value1=df.loc['a','d1']"
   ]
  },
  {
   "cell_type": "code",
   "execution_count": 12,
   "id": "acae2976",
   "metadata": {},
   "outputs": [],
   "source": [
    "# forward_fill\n",
    "fill_df=df.ffill(axis=1)\n",
    "# backward_fill\n",
    "fill_df_b=df.bfill(axis=0)"
   ]
  },
  {
   "cell_type": "code",
   "execution_count": null,
   "id": "cb24e9d1",
   "metadata": {},
   "outputs": [],
   "source": []
  }
 ],
 "metadata": {
  "kernelspec": {
   "display_name": "Python 3 (ipykernel)",
   "language": "python",
   "name": "python3"
  },
  "language_info": {
   "codemirror_mode": {
    "name": "ipython",
    "version": 3
   },
   "file_extension": ".py",
   "mimetype": "text/x-python",
   "name": "python",
   "nbconvert_exporter": "python",
   "pygments_lexer": "ipython3",
   "version": "3.9.13"
  }
 },
 "nbformat": 4,
 "nbformat_minor": 5
}
