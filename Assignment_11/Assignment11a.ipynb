{
 "cells": [
  {
   "cell_type": "code",
   "execution_count": 4,
   "id": "51ce9819",
   "metadata": {},
   "outputs": [
    {
     "ename": "KeyboardInterrupt",
     "evalue": "",
     "output_type": "error",
     "traceback": [
      "\u001b[1;31m---------------------------------------------------------------------------\u001b[0m",
      "\u001b[1;31mKeyboardInterrupt\u001b[0m                         Traceback (most recent call last)",
      "\u001b[1;32m~\\AppData\\Local\\Temp\\ipykernel_17132\\2544921338.py\u001b[0m in \u001b[0;36m<module>\u001b[1;34m\u001b[0m\n\u001b[0;32m     23\u001b[0m \u001b[0mclaim_probability\u001b[0m \u001b[1;33m=\u001b[0m \u001b[1;36m0.1\u001b[0m\u001b[1;33m\u001b[0m\u001b[1;33m\u001b[0m\u001b[0m\n\u001b[0;32m     24\u001b[0m \u001b[1;33m\u001b[0m\u001b[0m\n\u001b[1;32m---> 25\u001b[1;33m \u001b[0mprobability_ruin\u001b[0m \u001b[1;33m=\u001b[0m \u001b[0msimulate_ruin_probability\u001b[0m\u001b[1;33m(\u001b[0m\u001b[0minitial_reserve\u001b[0m\u001b[1;33m,\u001b[0m \u001b[0mdaily_earnings\u001b[0m\u001b[1;33m,\u001b[0m \u001b[0mclaim_probability\u001b[0m\u001b[1;33m)\u001b[0m\u001b[1;33m\u001b[0m\u001b[1;33m\u001b[0m\u001b[0m\n\u001b[0m\u001b[0;32m     26\u001b[0m \u001b[0mprint\u001b[0m\u001b[1;33m(\u001b[0m\u001b[1;34mf\"Probability of the company's ruin: {probability_ruin:.4f}\"\u001b[0m\u001b[1;33m)\u001b[0m\u001b[1;33m\u001b[0m\u001b[1;33m\u001b[0m\u001b[0m\n",
      "\u001b[1;32m~\\AppData\\Local\\Temp\\ipykernel_17132\\2544921338.py\u001b[0m in \u001b[0;36msimulate_ruin_probability\u001b[1;34m(initial_reserve, daily_earnings, claim_probability)\u001b[0m\n\u001b[0;32m     10\u001b[0m \u001b[1;33m\u001b[0m\u001b[0m\n\u001b[0;32m     11\u001b[0m             \u001b[0mreserve\u001b[0m \u001b[1;33m+=\u001b[0m \u001b[0mdaily_earnings\u001b[0m\u001b[1;33m\u001b[0m\u001b[1;33m\u001b[0m\u001b[0m\n\u001b[1;32m---> 12\u001b[1;33m             \u001b[1;32mif\u001b[0m \u001b[0mrandom\u001b[0m\u001b[1;33m.\u001b[0m\u001b[0mrandom\u001b[0m\u001b[1;33m(\u001b[0m\u001b[1;33m)\u001b[0m \u001b[1;33m<\u001b[0m \u001b[0mclaim_probability\u001b[0m\u001b[1;33m:\u001b[0m\u001b[1;33m\u001b[0m\u001b[1;33m\u001b[0m\u001b[0m\n\u001b[0m\u001b[0;32m     13\u001b[0m                 \u001b[0mreserve\u001b[0m \u001b[1;33m-=\u001b[0m \u001b[1;36m200\u001b[0m\u001b[1;33m\u001b[0m\u001b[1;33m\u001b[0m\u001b[0m\n\u001b[0;32m     14\u001b[0m             \u001b[1;32mif\u001b[0m \u001b[0mreserve\u001b[0m \u001b[1;33m<=\u001b[0m \u001b[1;36m0\u001b[0m\u001b[1;33m:\u001b[0m\u001b[1;33m\u001b[0m\u001b[1;33m\u001b[0m\u001b[0m\n",
      "\u001b[1;31mKeyboardInterrupt\u001b[0m: "
     ]
    }
   ],
   "source": [
    "import random\n",
    "\n",
    "def simulate_ruin_probability(initial_reserve, daily_earnings, claim_probability):\n",
    "    num_simulations = 10\n",
    "    ruined_count = 0\n",
    "    \n",
    "    for _ in range(num_simulations):\n",
    "        reserve = initial_reserve\n",
    "        while reserve > 0:\n",
    "            \n",
    "            reserve += daily_earnings  \n",
    "            if random.random() < claim_probability:\n",
    "                reserve -= 200 \n",
    "            if reserve <= 0:\n",
    "                ruined_count += 1\n",
    "                break\n",
    "\n",
    "    probability_ruin = ruined_count / num_simulations\n",
    "    return probability_ruin\n",
    "\n",
    "initial_reserve = 500\n",
    "daily_earnings = 200\n",
    "claim_probability = 0.1\n",
    "\n",
    "probability_ruin = simulate_ruin_probability(initial_reserve, daily_earnings, claim_probability)\n",
    "print(f\"Probability of the company's ruin: {probability_ruin:.4f}\")\n"
   ]
  },
  {
   "cell_type": "code",
   "execution_count": null,
   "id": "570f5d68",
   "metadata": {},
   "outputs": [],
   "source": [
    "def find_required_reserve(daily_earnings, claim_probability, target_probability):\n",
    "    min_reserve = 0\n",
    "    max_reserve = 2000  \n",
    "    \n",
    "    while max_reserve - min_reserve > 1e-5:\n",
    "        reserve = (min_reserve + max_reserve) / 2\n",
    "        probability_ruin = simulate_ruin_probability(reserve, daily_earnings, claim_probability)\n",
    "        \n",
    "        if probability_ruin < target_probability:\n",
    "            max_reserve = reserve\n",
    "        else:\n",
    "            min_reserve = reserve\n",
    "\n",
    "    return max_reserve\n",
    "\n",
    "target_probability = 0.001 \n",
    "required_reserve = find_required_reserve(daily_earnings, claim_probability, target_probability)\n",
    "print(f\"Req reserve probability of ruin less than {target_probability*100}%: {required_reserve:.2f}\")\n"
   ]
  },
  {
   "cell_type": "code",
   "execution_count": null,
   "id": "971eb763",
   "metadata": {},
   "outputs": [],
   "source": []
  },
  {
   "cell_type": "code",
   "execution_count": null,
   "id": "912072bc",
   "metadata": {},
   "outputs": [],
   "source": []
  }
 ],
 "metadata": {
  "kernelspec": {
   "display_name": "Python 3 (ipykernel)",
   "language": "python",
   "name": "python3"
  },
  "language_info": {
   "codemirror_mode": {
    "name": "ipython",
    "version": 3
   },
   "file_extension": ".py",
   "mimetype": "text/x-python",
   "name": "python",
   "nbconvert_exporter": "python",
   "pygments_lexer": "ipython3",
   "version": "3.9.13"
  }
 },
 "nbformat": 4,
 "nbformat_minor": 5
}
