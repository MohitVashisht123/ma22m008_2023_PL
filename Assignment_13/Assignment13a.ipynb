{
 "cells": [
  {
   "cell_type": "code",
   "execution_count": 1,
   "id": "5f06c7dd",
   "metadata": {},
   "outputs": [],
   "source": [
    "import urllib.request\n",
    "import numpy as np\n",
    "import matplotlib.pyplot as plt"
   ]
  },
  {
   "cell_type": "code",
   "execution_count": 2,
   "id": "984e28ab",
   "metadata": {},
   "outputs": [
    {
     "data": {
      "text/plain": [
       "('co2_mm_mlo.txt', <email.message.Message at 0x2230133a8e0>)"
      ]
     },
     "execution_count": 2,
     "metadata": {},
     "output_type": "execute_result"
    }
   ],
   "source": [
    "url = 'ftp://aftp.cmdl.noaa.gov/products/trends/co2/co2_mm_mlo.txt'\n",
    "dat= 'co2_mm_mlo.txt'\n",
    "urllib.request.urlretrieve(url, dat)\n",
    "# Loading of dataframe"
   ]
  },
  {
   "cell_type": "code",
   "execution_count": 3,
   "id": "ae17c217",
   "metadata": {},
   "outputs": [],
   "source": [
    "import pandas as pd\n",
    "data = np.genfromtxt(dat, skip_header=70)\n",
    "# Skipping the initial lines to generate numerical values"
   ]
  },
  {
   "cell_type": "code",
   "execution_count": 4,
   "id": "f7d91285",
   "metadata": {},
   "outputs": [
    {
     "name": "stdout",
     "output_type": "stream",
     "text": [
      "[[ 1.9600000e+03  7.0000000e+00  1.9605383e+03 ... -1.0000000e+00\n",
      "  -9.9900000e+00 -9.9000000e-01]\n",
      " [ 1.9600000e+03  8.0000000e+00  1.9606230e+03 ... -1.0000000e+00\n",
      "  -9.9900000e+00 -9.9000000e-01]\n",
      " [ 1.9600000e+03  9.0000000e+00  1.9607077e+03 ... -1.0000000e+00\n",
      "  -9.9900000e+00 -9.9000000e-01]\n",
      " ...\n",
      " [ 2.0230000e+03  8.0000000e+00  2.0236250e+03 ...  2.1000000e+01\n",
      "   4.5000000e-01  1.9000000e-01]\n",
      " [ 2.0230000e+03  9.0000000e+00  2.0237083e+03 ...  1.8000000e+01\n",
      "   3.0000000e-01  1.4000000e-01]\n",
      " [ 2.0230000e+03  1.0000000e+01  2.0237917e+03 ...  2.7000000e+01\n",
      "   4.4000000e-01  1.6000000e-01]]\n"
     ]
    }
   ],
   "source": [
    "print(data)"
   ]
  },
  {
   "cell_type": "code",
   "execution_count": 11,
   "id": "ee12eaeb",
   "metadata": {},
   "outputs": [],
   "source": [
    "data = np.nan_to_num(data, nan=0.0)"
   ]
  },
  {
   "cell_type": "code",
   "execution_count": 17,
   "id": "5d136728",
   "metadata": {},
   "outputs": [
    {
     "ename": "RuntimeError",
     "evalue": "Optimal parameters not found: Number of calls to function has reached maxfev = 6000.",
     "output_type": "error",
     "traceback": [
      "\u001b[1;31m---------------------------------------------------------------------------\u001b[0m",
      "\u001b[1;31mRuntimeError\u001b[0m                              Traceback (most recent call last)",
      "\u001b[1;32m~\\AppData\\Local\\Temp\\ipykernel_19068\\1508815575.py\u001b[0m in \u001b[0;36m<module>\u001b[1;34m\u001b[0m\n\u001b[0;32m     21\u001b[0m     \u001b[0mprint\u001b[0m\u001b[1;33m(\u001b[0m\u001b[1;34m'yes'\u001b[0m\u001b[1;33m)\u001b[0m\u001b[1;33m\u001b[0m\u001b[1;33m\u001b[0m\u001b[0m\n\u001b[0;32m     22\u001b[0m \u001b[1;31m#  adjusting the p0 parameter\u001b[0m\u001b[1;33m\u001b[0m\u001b[1;33m\u001b[0m\u001b[0m\n\u001b[1;32m---> 23\u001b[1;33m \u001b[0mparams\u001b[0m\u001b[1;33m,\u001b[0m \u001b[0mcovariance\u001b[0m \u001b[1;33m=\u001b[0m \u001b[0mcurve_fit\u001b[0m\u001b[1;33m(\u001b[0m\u001b[0mquadratic_function\u001b[0m\u001b[1;33m,\u001b[0m \u001b[0mx_data\u001b[0m\u001b[1;33m,\u001b[0m \u001b[0my_data\u001b[0m\u001b[1;33m,\u001b[0m \u001b[0mp0\u001b[0m\u001b[1;33m=\u001b[0m\u001b[1;33m[\u001b[0m\u001b[1;36m10\u001b[0m\u001b[1;33m,\u001b[0m \u001b[1;36m10\u001b[0m\u001b[1;33m,\u001b[0m \u001b[1;36m10\u001b[0m\u001b[1;33m]\u001b[0m\u001b[1;33m,\u001b[0m \u001b[0mmaxfev\u001b[0m\u001b[1;33m=\u001b[0m\u001b[1;36m6000\u001b[0m\u001b[1;33m,\u001b[0m \u001b[0mmethod\u001b[0m\u001b[1;33m=\u001b[0m\u001b[1;34m'lm'\u001b[0m\u001b[1;33m)\u001b[0m\u001b[1;33m\u001b[0m\u001b[1;33m\u001b[0m\u001b[0m\n\u001b[0m\u001b[0;32m     24\u001b[0m \u001b[1;33m\u001b[0m\u001b[0m\n\u001b[0;32m     25\u001b[0m \u001b[1;33m\u001b[0m\u001b[0m\n",
      "\u001b[1;32m~\\anaconda3\\lib\\site-packages\\scipy\\optimize\\_minpack_py.py\u001b[0m in \u001b[0;36mcurve_fit\u001b[1;34m(f, xdata, ydata, p0, sigma, absolute_sigma, check_finite, bounds, method, jac, full_output, **kwargs)\u001b[0m\n\u001b[0;32m    837\u001b[0m         \u001b[0mcost\u001b[0m \u001b[1;33m=\u001b[0m \u001b[0mnp\u001b[0m\u001b[1;33m.\u001b[0m\u001b[0msum\u001b[0m\u001b[1;33m(\u001b[0m\u001b[0minfodict\u001b[0m\u001b[1;33m[\u001b[0m\u001b[1;34m'fvec'\u001b[0m\u001b[1;33m]\u001b[0m \u001b[1;33m**\u001b[0m \u001b[1;36m2\u001b[0m\u001b[1;33m)\u001b[0m\u001b[1;33m\u001b[0m\u001b[1;33m\u001b[0m\u001b[0m\n\u001b[0;32m    838\u001b[0m         \u001b[1;32mif\u001b[0m \u001b[0mier\u001b[0m \u001b[1;32mnot\u001b[0m \u001b[1;32min\u001b[0m \u001b[1;33m[\u001b[0m\u001b[1;36m1\u001b[0m\u001b[1;33m,\u001b[0m \u001b[1;36m2\u001b[0m\u001b[1;33m,\u001b[0m \u001b[1;36m3\u001b[0m\u001b[1;33m,\u001b[0m \u001b[1;36m4\u001b[0m\u001b[1;33m]\u001b[0m\u001b[1;33m:\u001b[0m\u001b[1;33m\u001b[0m\u001b[1;33m\u001b[0m\u001b[0m\n\u001b[1;32m--> 839\u001b[1;33m             \u001b[1;32mraise\u001b[0m \u001b[0mRuntimeError\u001b[0m\u001b[1;33m(\u001b[0m\u001b[1;34m\"Optimal parameters not found: \"\u001b[0m \u001b[1;33m+\u001b[0m \u001b[0merrmsg\u001b[0m\u001b[1;33m)\u001b[0m\u001b[1;33m\u001b[0m\u001b[1;33m\u001b[0m\u001b[0m\n\u001b[0m\u001b[0;32m    840\u001b[0m     \u001b[1;32melse\u001b[0m\u001b[1;33m:\u001b[0m\u001b[1;33m\u001b[0m\u001b[1;33m\u001b[0m\u001b[0m\n\u001b[0;32m    841\u001b[0m         \u001b[1;31m# Rename maxfev (leastsq) to max_nfev (least_squares), if specified.\u001b[0m\u001b[1;33m\u001b[0m\u001b[1;33m\u001b[0m\u001b[0m\n",
      "\u001b[1;31mRuntimeError\u001b[0m: Optimal parameters not found: Number of calls to function has reached maxfev = 6000."
     ]
    }
   ],
   "source": [
    "import pandas as pd\n",
    "import numpy as np\n",
    "import matplotlib.pyplot as plt\n",
    "from scipy.optimize import curve_fit\n",
    "\n",
    "# Load the CO2 data (Assuming you have the data in a CSV file)\n",
    "\n",
    "data = pd.read_csv('co21.csv')\n",
    "\n",
    "# Replace NaN values with 0\n",
    "data['deseasonalized'] = data['deseasonalized'].fillna(0)\n",
    "\n",
    "# Define the quadratic function\n",
    "def quadratic_function(x, a, b, c):\n",
    "    return a * x**2 + b * x + c\n",
    "\n",
    "# Fit the quadratic curve to the data\n",
    "x_data = data['year']  # Assuming the year is in the 'Year' column\n",
    "y_data = data['deseasonalized']   # Assuming CO2 levels are in the 'CO2' column\n",
    "if np.any(np.isnan(y_data)) or np.any(np.isinf(y_data)):\n",
    "    print('yes')\n",
    "#  adjusting the p0 parameter\n",
    "params, covariance = curve_fit(quadratic_function, x_data, y_data, p0=[1, 1, 1], maxfev=6000, method='lm')\n",
    "\n",
    "\n",
    "\n",
    "\n",
    "# Getting the coefficients (a, b, c) of the quadratic fit\n",
    "a, b, c = params\n",
    "\n",
    "\n",
    "# The derivative is linear, so the rate of change is constant\n",
    "derivative = 2 * a * x_data + b\n",
    "\n",
    "# Check if the rate of change is increasing (positive)\n",
    "is_increasing = all(derivative > 0)\n",
    "\n",
    "# Providing a \"yes or no\" answer\n",
    "if is_increasing:\n",
    "    answer = \"Yes, the rate of increase of CO2 is increasing.\"\n",
    "else:\n",
    "    answer = \"No, the rate of increase of CO2 is not increasing.\"\n",
    "\n",
    "# Plot the data and the fitted curve\n",
    "plt.scatter(x_data, y_data, label=\"CO2 Data\")\n",
    "plt.plot(x_data, quadratic_function(x_data, a, b, c), 'r', label=\"Quadratic Fit\")\n",
    "plt.xlabel(\"Year\")\n",
    "plt.ylabel(\"CO2 Levels\")\n",
    "plt.legend()\n",
    "plt.title(\"CO2 Levels Over Time with Quadratic Fit\")\n",
    "plt.show()\n",
    "\n",
    "# Print the answer\n",
    "print(answer)\n"
   ]
  },
  {
   "cell_type": "code",
   "execution_count": null,
   "id": "f58f45c6",
   "metadata": {},
   "outputs": [],
   "source": []
  }
 ],
 "metadata": {
  "kernelspec": {
   "display_name": "Python 3 (ipykernel)",
   "language": "python",
   "name": "python3"
  },
  "language_info": {
   "codemirror_mode": {
    "name": "ipython",
    "version": 3
   },
   "file_extension": ".py",
   "mimetype": "text/x-python",
   "name": "python",
   "nbconvert_exporter": "python",
   "pygments_lexer": "ipython3",
   "version": "3.9.13"
  }
 },
 "nbformat": 4,
 "nbformat_minor": 5
}
