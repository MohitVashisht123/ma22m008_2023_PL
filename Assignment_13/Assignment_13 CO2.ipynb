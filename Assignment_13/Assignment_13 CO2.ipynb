{
 "cells": [
  {
   "cell_type": "markdown",
   "id": "ef4822f2",
   "metadata": {},
   "source": [
    "#  Atmospheric carbon dioxide"
   ]
  },
  {
   "cell_type": "code",
   "execution_count": 3,
   "id": "e340bd42",
   "metadata": {},
   "outputs": [
    {
     "data": {
      "text/plain": [
       "('co2_mm_mlo.txt', <email.message.Message at 0x26096a1a680>)"
      ]
     },
     "execution_count": 3,
     "metadata": {},
     "output_type": "execute_result"
    }
   ],
   "source": [
    "import urllib.request\n",
    "import numpy as np\n",
    "import pandas as pd\n",
    "#Pass the given url.\n",
    "url=\"ftp://aftp.cmdl.noaa.gov/products/trends/co2/co2_mm_mlo.txt\"\n",
    "# For data\n",
    "data=\"co2_mm_mlo.txt\"\n",
    "# We will send request to load our data.\n",
    "urllib.request.urlretrieve(url,data)"
   ]
  },
  {
   "cell_type": "code",
   "execution_count": 4,
   "id": "7bf7d52c",
   "metadata": {},
   "outputs": [],
   "source": [
    "#Now my data is in string form so i need to do data munging to get data into arrays.\n",
    "df_=np.genfromtxt(data,skip_header=60) # Skipping initial lines to get our data."
   ]
  },
  {
   "cell_type": "code",
   "execution_count": 8,
   "id": "16b1ac2c",
   "metadata": {},
   "outputs": [],
   "source": [
    "#Converting into dataframe.\n",
    "data=pd.DataFrame(df_)"
   ]
  },
  {
   "cell_type": "code",
   "execution_count": 9,
   "id": "bde88a15",
   "metadata": {},
   "outputs": [
    {
     "data": {
      "text/html": [
       "<div>\n",
       "<style scoped>\n",
       "    .dataframe tbody tr th:only-of-type {\n",
       "        vertical-align: middle;\n",
       "    }\n",
       "\n",
       "    .dataframe tbody tr th {\n",
       "        vertical-align: top;\n",
       "    }\n",
       "\n",
       "    .dataframe thead th {\n",
       "        text-align: right;\n",
       "    }\n",
       "</style>\n",
       "<table border=\"1\" class=\"dataframe\">\n",
       "  <thead>\n",
       "    <tr style=\"text-align: right;\">\n",
       "      <th></th>\n",
       "      <th>0</th>\n",
       "      <th>1</th>\n",
       "      <th>2</th>\n",
       "      <th>3</th>\n",
       "      <th>4</th>\n",
       "      <th>5</th>\n",
       "      <th>6</th>\n",
       "      <th>7</th>\n",
       "    </tr>\n",
       "  </thead>\n",
       "  <tbody>\n",
       "    <tr>\n",
       "      <th>0</th>\n",
       "      <td>1959.0</td>\n",
       "      <td>9.0</td>\n",
       "      <td>1959.7068</td>\n",
       "      <td>313.84</td>\n",
       "      <td>316.73</td>\n",
       "      <td>-1.0</td>\n",
       "      <td>-9.99</td>\n",
       "      <td>-0.99</td>\n",
       "    </tr>\n",
       "    <tr>\n",
       "      <th>1</th>\n",
       "      <td>1959.0</td>\n",
       "      <td>10.0</td>\n",
       "      <td>1959.7890</td>\n",
       "      <td>313.33</td>\n",
       "      <td>316.33</td>\n",
       "      <td>-1.0</td>\n",
       "      <td>-9.99</td>\n",
       "      <td>-0.99</td>\n",
       "    </tr>\n",
       "    <tr>\n",
       "      <th>2</th>\n",
       "      <td>1959.0</td>\n",
       "      <td>11.0</td>\n",
       "      <td>1959.8740</td>\n",
       "      <td>314.81</td>\n",
       "      <td>316.68</td>\n",
       "      <td>-1.0</td>\n",
       "      <td>-9.99</td>\n",
       "      <td>-0.99</td>\n",
       "    </tr>\n",
       "    <tr>\n",
       "      <th>3</th>\n",
       "      <td>1959.0</td>\n",
       "      <td>12.0</td>\n",
       "      <td>1959.9562</td>\n",
       "      <td>315.58</td>\n",
       "      <td>316.35</td>\n",
       "      <td>-1.0</td>\n",
       "      <td>-9.99</td>\n",
       "      <td>-0.99</td>\n",
       "    </tr>\n",
       "    <tr>\n",
       "      <th>4</th>\n",
       "      <td>1960.0</td>\n",
       "      <td>1.0</td>\n",
       "      <td>1960.0410</td>\n",
       "      <td>316.43</td>\n",
       "      <td>316.40</td>\n",
       "      <td>-1.0</td>\n",
       "      <td>-9.99</td>\n",
       "      <td>-0.99</td>\n",
       "    </tr>\n",
       "  </tbody>\n",
       "</table>\n",
       "</div>"
      ],
      "text/plain": [
       "        0     1          2       3       4    5     6     7\n",
       "0  1959.0   9.0  1959.7068  313.84  316.73 -1.0 -9.99 -0.99\n",
       "1  1959.0  10.0  1959.7890  313.33  316.33 -1.0 -9.99 -0.99\n",
       "2  1959.0  11.0  1959.8740  314.81  316.68 -1.0 -9.99 -0.99\n",
       "3  1959.0  12.0  1959.9562  315.58  316.35 -1.0 -9.99 -0.99\n",
       "4  1960.0   1.0  1960.0410  316.43  316.40 -1.0 -9.99 -0.99"
      ]
     },
     "execution_count": 9,
     "metadata": {},
     "output_type": "execute_result"
    }
   ],
   "source": [
    "data.head()"
   ]
  },
  {
   "cell_type": "code",
   "execution_count": 7,
   "id": "99e43faf",
   "metadata": {},
   "outputs": [],
   "source": [
    "import matplotlib.pyplot as plt\n",
    "from numpy.polynomial import Polynomial\n",
    "from sklearn.linear_model import LinearRegression"
   ]
  },
  {
   "cell_type": "code",
   "execution_count": 12,
   "id": "8c82719c",
   "metadata": {},
   "outputs": [
    {
     "name": "stderr",
     "output_type": "stream",
     "text": [
      "C:\\Users\\prash\\anaconda3\\lib\\site-packages\\IPython\\core\\interactiveshell.py:3460: RankWarning: Polyfit may be poorly conditioned\n",
      "  exec(code_obj, self.user_global_ns, self.user_ns)\n"
     ]
    },
    {
     "data": {
      "image/png": "[encoded data removed]",
      "text/plain": [
       "<Figure size 640x480 with 1 Axes>"
      ]
     },
     "metadata": {},
     "output_type": "display_data"
    },
    {
     "name": "stdout",
     "output_type": "stream",
     "text": [
      "Estimated rate of change: 2.0405 ppm/year\n"
     ]
    }
   ],
   "source": [
    "import numpy as np\n",
    "import matplotlib.pyplot as plt\n",
    "\n",
    "# Given data\n",
    "data_points = np.array([\n",
    "    [1959.0, 9.0, 1959.7068, 313.84, 316.73, -1.0, -9.99, -0.99],\n",
    "    [1959.0, 10.0, 1959.7890, 313.33, 316.33, -1.0, -9.99, -0.99],\n",
    "    [1959.0, 11.0, 1959.8740, 314.81, 316.68, -1.0, -9.99, -0.99],\n",
    "    [1959.0, 12.0, 1959.9562, 315.58, 316.35, -1.0, -9.99, -0.99],\n",
    "    [1960.0, 1.0, 1960.0410, 316.43, 316.40, -1.0, -9.99, -0.99]\n",
    "])\n",
    "\n",
    "# Extracting the relevant columns\n",
    "years = data_points[:, 0]\n",
    "co2_levels = data_points[:, 3]\n",
    "\n",
    "# Fit a quadratic function to the data\n",
    "quadratic_coefficients = np.polyfit(years, co2_levels, 2)\n",
    "quadratic_function = np.poly1d(quadratic_coefficients)\n",
    "\n",
    "# Deriving the derivative of the quadratic function\n",
    "derivative_function = np.poly1d([2 * quadratic_coefficients[0], quadratic_coefficients[1]])\n",
    "\n",
    "# Estimating the rate of change\n",
    "rate_of_change_estimate = derivative_function(years[-1])\n",
    "\n",
    "# Plot the data and the fitted quadratic curve\n",
    "plt.scatter(years, co2_levels, label='CO2 Levels')\n",
    "plt.plot(years, quadratic_function(years), label='Quadratic Fit', color='red')\n",
    "plt.xlabel('Year')\n",
    "plt.ylabel('CO2 Levels')\n",
    "plt.title('Quadratic Fit to CO2 Levels Data')\n",
    "plt.legend()\n",
    "plt.show()\n",
    "\n",
    "# Print the rate of change estimate\n",
    "print(f\"Estimated rate of change: {rate_of_change_estimate:.4f} ppm/year\")\n"
   ]
  },
  {
   "cell_type": "code",
   "execution_count": null,
   "id": "b6cddd56",
   "metadata": {},
   "outputs": [],
   "source": []
  }
 ],
 "metadata": {
  "kernelspec": {
   "display_name": "Python 3 (ipykernel)",
   "language": "python",
   "name": "python3"
  },
  "language_info": {
   "codemirror_mode": {
    "name": "ipython",
    "version": 3
   },
   "file_extension": ".py",
   "mimetype": "text/x-python",
   "name": "python",
   "nbconvert_exporter": "python",
   "pygments_lexer": "ipython3",
   "version": "3.9.13"
  }
 },
 "nbformat": 4,
 "nbformat_minor": 5
}
