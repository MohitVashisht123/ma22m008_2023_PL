{
 "cells": [
  {
   "cell_type": "code",
   "execution_count": 4,
   "id": "b9240806",
   "metadata": {},
   "outputs": [
    {
     "name": "stdout",
     "output_type": "stream",
     "text": [
      "[0.70218537 0.60995333 0.8941444  0.95070946 0.94629288]\n"
     ]
    }
   ],
   "source": [
    "import numpy as np\n",
    "\n",
    "\n",
    "x = np.random.rand(5)\n",
    "# Generating the random variable\n",
    "print(x)\n",
    "\n",
    "\n",
    "\n",
    "\n",
    "Dist = np.subtract.outer(x, x)\n",
    "# One line code to calculate the pairwise distances"
   ]
  },
  {
   "cell_type": "code",
   "execution_count": 5,
   "id": "ed3036f2",
   "metadata": {},
   "outputs": [
    {
     "name": "stdout",
     "output_type": "stream",
     "text": [
      "[[ 0.          0.09223204 -0.19195903 -0.24852409 -0.24410751]\n",
      " [-0.09223204  0.         -0.28419107 -0.34075613 -0.33633955]\n",
      " [ 0.19195903  0.28419107  0.         -0.05656506 -0.05214848]\n",
      " [ 0.24852409  0.34075613  0.05656506  0.          0.00441658]\n",
      " [ 0.24410751  0.33633955  0.05214848 -0.00441658  0.        ]]\n"
     ]
    }
   ],
   "source": [
    "print(Dist)\n",
    "# Printing the distances"
   ]
  },
  {
   "cell_type": "code",
   "execution_count": null,
   "id": "0d038377",
   "metadata": {},
   "outputs": [],
   "source": []
  }
 ],
 "metadata": {
  "kernelspec": {
   "display_name": "Python 3 (ipykernel)",
   "language": "python",
   "name": "python3"
  },
  "language_info": {
   "codemirror_mode": {
    "name": "ipython",
    "version": 3
   },
   "file_extension": ".py",
   "mimetype": "text/x-python",
   "name": "python",
   "nbconvert_exporter": "python",
   "pygments_lexer": "ipython3",
   "version": "3.9.13"
  }
 },
 "nbformat": 4,
 "nbformat_minor": 5
}
