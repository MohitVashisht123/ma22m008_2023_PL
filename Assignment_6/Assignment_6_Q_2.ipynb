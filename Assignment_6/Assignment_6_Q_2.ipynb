{
 "cells": [
  {
   "cell_type": "code",
   "execution_count": 11,
   "id": "6d52dcd8",
   "metadata": {},
   "outputs": [
    {
     "name": "stdout",
     "output_type": "stream",
     "text": [
      "Hausdorff Distance: 0.3785779253659815\n"
     ]
    }
   ],
   "source": [
    "import numpy as np\n",
    "def hausdorff(p,q):\n",
    "    p_new=p[:,np.newaxis]\n",
    "#     Reshaping the new p axis to allow element wise operations\n",
    "    euc_dist_pq = np.linalg.norm(p_new-q,axis=2)\n",
    "#     Calculating the euclidean distance\n",
    "    min_dist_pq=np.min(euc_dist_pq,axis=1)\n",
    "#     Calculating the minimum element of each row since dist pq are stored in rows \n",
    "    min_dist_qp=np.min(euc_dist_pq,axis=0)\n",
    "    max_dist_pq=np.max(min_dist_pq)\n",
    "    max_dist_qp=np.max(min_dist_qp)\n",
    "    \n",
    "    hausdroff_dist=max(max_dist_pq,max_dist_qp)\n",
    "    return hausdroff_dist\n",
    "    \n",
    "    \n",
    "#     calculating the distance between p and q\n",
    "P = np.random.rand(5, 2)\n",
    "Q = np.random.rand(7, 2)\n",
    "\n",
    "hausdorff_dist = hausdorff(P, Q)\n",
    "print(\"Hausdorff Distance:\", hausdorff_dist)\n",
    "    \n",
    "    \n",
    "    \n",
    "    "
   ]
  },
  {
   "cell_type": "code",
   "execution_count": null,
   "id": "8e6c1bc1",
   "metadata": {},
   "outputs": [],
   "source": []
  }
 ],
 "metadata": {
  "kernelspec": {
   "display_name": "Python 3 (ipykernel)",
   "language": "python",
   "name": "python3"
  },
  "language_info": {
   "codemirror_mode": {
    "name": "ipython",
    "version": 3
   },
   "file_extension": ".py",
   "mimetype": "text/x-python",
   "name": "python",
   "nbconvert_exporter": "python",
   "pygments_lexer": "ipython3",
   "version": "3.9.13"
  }
 },
 "nbformat": 4,
 "nbformat_minor": 5
}
