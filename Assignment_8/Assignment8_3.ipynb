{
 "cells": [
  {
   "cell_type": "code",
   "execution_count": 18,
   "id": "936327f1",
   "metadata": {},
   "outputs": [
    {
     "name": "stdout",
     "output_type": "stream",
     "text": [
      "Null Space using SVD:\n",
      "[-0.24209024 -0.89711712 -0.29564648  0.22173486]\n"
     ]
    }
   ],
   "source": [
    "import numpy as np\n",
    "from scipy.linalg import svd\n",
    "\n",
    "# Given matrix A\n",
    "A = np.array([[1, -2, 3, -3], [2, -4, 9, -2], [-3, 6, -9, 9]])\n",
    "\n",
    "#  null space using SVD\n",
    "U, s, VT = svd(A)\n",
    "null_space_svd = VT.T[:, np.where(s < 1e-10)].squeeze()\n",
    "# mask=s< 1e-10\n",
    "# basis=VT.T[:,mask].squeeze()\n",
    "# null_basis=basis.squeeze()\n",
    "# small_singular_values_mask = s < 1e-10\n",
    "# null_space_svd = VT.T[:, small_singular_values_mask]\n",
    "# small_singular_values_mask = s < 1e-10\n",
    "# null_space_svd = VT.T[:, small_singular_values_mask]\n",
    "\n",
    "print(\"Null Space using SVD:\")\n",
    "print(null_space_svd)\n"
   ]
  },
  {
   "cell_type": "code",
   "execution_count": 2,
   "id": "138aa655",
   "metadata": {},
   "outputs": [
    {
     "name": "stdout",
     "output_type": "stream",
     "text": [
      "Null Space using QR factorization and orthogonal complement:\n",
      "[[-0.37465885]\n",
      " [ 0.79930787]\n",
      " [ 0.37586183]\n",
      " [-0.28189637]]\n"
     ]
    }
   ],
   "source": [
    "from scipy.linalg import qr\n",
    "\n",
    "# Task 2: Find the null space using QR factorization and orthogonal complement theorem\n",
    "Q, R = qr(A.T, mode='economic')  # QR factorization of A^T\n",
    "null_space_qr = Q[:, np.linalg.matrix_rank(A):]\n",
    "\n",
    "print(\"Null Space using QR factorization and orthogonal complement:\")\n",
    "print(null_space_qr)\n"
   ]
  },
  {
   "cell_type": "code",
   "execution_count": 3,
   "id": "2cdf3605",
   "metadata": {},
   "outputs": [
    {
     "name": "stdout",
     "output_type": "stream",
     "text": [
      "Do the null spaces span the same space? False\n"
     ]
    }
   ],
   "source": [
    "# Task 3: Check if the null spaces span the same space\n",
    "is_same_space = np.allclose(null_space_svd, null_space_qr)\n",
    "print(\"Do the null spaces span the same space?\", is_same_space)\n"
   ]
  },
  {
   "cell_type": "code",
   "execution_count": null,
   "id": "621ced27",
   "metadata": {},
   "outputs": [],
   "source": []
  }
 ],
 "metadata": {
  "kernelspec": {
   "display_name": "Python 3 (ipykernel)",
   "language": "python",
   "name": "python3"
  },
  "language_info": {
   "codemirror_mode": {
    "name": "ipython",
    "version": 3
   },
   "file_extension": ".py",
   "mimetype": "text/x-python",
   "name": "python",
   "nbconvert_exporter": "python",
   "pygments_lexer": "ipython3",
   "version": "3.9.13"
  }
 },
 "nbformat": 4,
 "nbformat_minor": 5
}
