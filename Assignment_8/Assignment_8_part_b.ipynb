{
 "cells": [
  {
   "cell_type": "code",
   "execution_count": 6,
   "id": "a764aeb8",
   "metadata": {
    "scrolled": true
   },
   "outputs": [],
   "source": [
    "import numpy as np\n",
    "from scipy.linalg import svd, qr\n",
    "\n",
    "# Given matrix A\n",
    "A = np.array([[1, -2, 3, -3], [2, -4, 9, -2], [-3, 6, -9, 9]])\n",
    "\n",
    "# Computing basis for the column space using QR factorization\n",
    "Q, R = qr(A, mode='economic')  \n",
    "# Basis for the column space\n",
    "\n",
    "bqr = Q  \n",
    "# Computing basis for the column space using SVD\n",
    "U, s, VT = svd(A)\n",
    "b_svd = U \n",
    "\n"
   ]
  },
  {
   "cell_type": "code",
   "execution_count": 8,
   "id": "3b537a64",
   "metadata": {},
   "outputs": [
    {
     "name": "stdout",
     "output_type": "stream",
     "text": [
      "Are the column spaces the same? True\n"
     ]
    }
   ],
   "source": [
    "A = np.array([[1, -2, 3, -3], [2, -4, 9, -2], [-3, 6, -9, 9]])\n",
    "\n",
    "#  Checking if the column spaces are the same (span the same space)\n",
    "r_b_qr = np.linalg.matrix_rank(bqr)\n",
    "r_b_svd = np.linalg.matrix_rank(b_svd)\n",
    "\n",
    "is_same_space = r_b_qr == r_b_svd\n",
    "print(\"Are the column spaces the same?\", is_same_space)"
   ]
  },
  {
   "cell_type": "code",
   "execution_count": 2,
   "id": "89a822cc",
   "metadata": {},
   "outputs": [
    {
     "name": "stdout",
     "output_type": "stream",
     "text": [
      "Time taken by QR factorization: 0.12669929999999852\n",
      "Time taken by SVD: 0.4827067000000085\n"
     ]
    }
   ],
   "source": [
    "import numpy as np\n",
    "from scipy.linalg import svd, qr\n",
    "import timeit\n",
    "\n",
    "# Generating  a random 500x500 matrix\n",
    "random_matrix = np.random.rand(500, 500)\n",
    "\n",
    "# time taken by QR factorization\n",
    "qr_time = timeit.timeit(lambda: qr(random_matrix, mode='economic'), number=10)\n",
    "\n",
    "# Measure the time taken by SVD\n",
    "svd_time = timeit.timeit(lambda: svd(random_matrix), number=10)\n",
    "\n",
    "print(\"Time taken by QR factorization:\", qr_time)\n",
    "print(\"Time taken by SVD:\", svd_time)\n"
   ]
  },
  {
   "cell_type": "code",
   "execution_count": null,
   "id": "dcb87afc",
   "metadata": {},
   "outputs": [],
   "source": []
  }
 ],
 "metadata": {
  "kernelspec": {
   "display_name": "Python 3 (ipykernel)",
   "language": "python",
   "name": "python3"
  },
  "language_info": {
   "codemirror_mode": {
    "name": "ipython",
    "version": 3
   },
   "file_extension": ".py",
   "mimetype": "text/x-python",
   "name": "python",
   "nbconvert_exporter": "python",
   "pygments_lexer": "ipython3",
   "version": "3.9.13"
  }
 },
 "nbformat": 4,
 "nbformat_minor": 5
}
