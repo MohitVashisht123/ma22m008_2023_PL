{
 "cells": [
  {
   "cell_type": "code",
   "execution_count": 2,
   "id": "bfda755f",
   "metadata": {},
   "outputs": [
    {
     "name": "stdout",
     "output_type": "stream",
     "text": [
      "Please input the value for which you wish to calculate the expected sum 5\n",
      "Please input the highest power upto which you want to calculate the sum 6\n",
      "The sum for n=5 and N=6 is : 19530\n"
     ]
    }
   ],
   "source": [
    "def compute(n,N):\n",
    "    \n",
    "    s=0 \n",
    "    for i in range(1,N+1):\n",
    "#         Setting the loop for the required no of iterations\n",
    "        s+=n**i\n",
    "#     evaluating the expression\n",
    "    return s\n",
    "#     print(\"Final answer\",s)\n",
    "n=int(input(\"Please input the value for which you wish to calculate the expected sum \"))\n",
    "# Taking the input from the user for the no for which series have to be calculated\n",
    "N=int(input(\"Please input the highest power upto which you want to calculate the sum \"))\n",
    "res=compute(n,N)\n",
    "# Calling the function\n",
    "print(f\"The sum for n={n} and N={N} is :\",res)\n",
    "\n",
    "\n"
   ]
  },
  {
   "cell_type": "code",
   "execution_count": null,
   "id": "b4ec6a4f",
   "metadata": {},
   "outputs": [],
   "source": []
  }
 ],
 "metadata": {
  "kernelspec": {
   "display_name": "Python 3 (ipykernel)",
   "language": "python",
   "name": "python3"
  },
  "language_info": {
   "codemirror_mode": {
    "name": "ipython",
    "version": 3
   },
   "file_extension": ".py",
   "mimetype": "text/x-python",
   "name": "python",
   "nbconvert_exporter": "python",
   "pygments_lexer": "ipython3",
   "version": "3.9.13"
  }
 },
 "nbformat": 4,
 "nbformat_minor": 5
}
