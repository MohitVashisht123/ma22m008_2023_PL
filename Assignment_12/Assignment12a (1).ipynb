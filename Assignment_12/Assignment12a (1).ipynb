{
 "cells": [
  {
   "cell_type": "code",
   "execution_count": 1,
   "id": "128bd8aa",
   "metadata": {},
   "outputs": [
    {
     "name": "stdout",
     "output_type": "stream",
     "text": [
      "Stationary Distribution:\n",
      "[1. 0. 0. 0. 0. 0. 0. 0. 0. 0. 0.]\n"
     ]
    }
   ],
   "source": [
    "import numpy as np\n",
    "\n",
    "p = 0.4\n",
    "N = 10\n",
    "\n",
    "#  transition matrix P\n",
    "P = np.zeros((N + 1, N + 1))\n",
    "i = 1\n",
    "while i < N:\n",
    "    P[i][i - 1] = 1 - p\n",
    "    P[i][i + 1] = p\n",
    "    i += 1\n",
    "\n",
    "# ? Absorbing states (boundary conditions)\n",
    "P[0, 0] = 1.0\n",
    "P[N, N] = 1.0\n",
    "\n",
    "# stationary distribution\n",
    "eigenvalues, eigenvectors = np.linalg.eig(P.T)\n",
    "stationary_distribution = np.real(eigenvectors[:, np.argmax(np.isclose(eigenvalues, 1))])\n",
    "\n",
    "print(\"Stationary Distribution:\")\n",
    "print(stationary_distribution)\n"
   ]
  },
  {
   "cell_type": "code",
   "execution_count": 2,
   "id": "3913e123",
   "metadata": {},
   "outputs": [],
   "source": [
    "import numpy as np\n",
    "\n",
    "N = 10\n",
    "alpha = 0.85  \n",
    "states = np.arange(N + 1)\n",
    "\n",
    "A = np.zeros((N + 1, N + 1))\n",
    "\n",
    "# Using a while loop to set the values to zero\n",
    "i = 0\n",
    "while i <= N:\n",
    "    j = 0\n",
    "    while j <= N:\n",
    "        A[i, j] = 0\n",
    "        j += 1\n",
    "    i += 1\n",
    "\n",
    "\n",
    "\n",
    "\n",
    "\n"
   ]
  },
  {
   "cell_type": "code",
   "execution_count": 4,
   "id": "4c70b582",
   "metadata": {},
   "outputs": [],
   "source": [
    "import numpy as np\n",
    "\n",
    "def power_method(P, max_iterations=1000, tolerance=1e-6):\n",
    "    n = P.shape[0]\n",
    "    x = np.ones(n) / n \n",
    "\n",
    "    for _ in range(max_iterations):\n",
    "         # Applying the matrix\n",
    "        x_new = np.dot(P, x) \n",
    "        if np.linalg.norm(x_new - x) < tolerance:\n",
    "            break\n",
    "        x = x_new\n",
    "\n",
    "    return x_new\n",
    "\n",
    "\n",
    "result = power_method(P)\n"
   ]
  },
  {
   "cell_type": "code",
   "execution_count": 5,
   "id": "ee3b571b",
   "metadata": {},
   "outputs": [
    {
     "name": "stdout",
     "output_type": "stream",
     "text": [
      "PageRank of the ruin state for r = 0.1 and N = 1000: 0.000000\n"
     ]
    }
   ],
   "source": [
    "import numpy as np\n",
    "\n",
    "def power_method(P, max_iterations=1000, tolerance=1e-6):\n",
    "    n = P.shape[0]\n",
    "    x = np.ones(n) / n  # Initial probability vector\n",
    "\n",
    "    for _ in range(max_iterations):\n",
    "        x_new = np.dot(P, x)  # Apply the matrix\n",
    "        if np.linalg.norm(x_new - x) < tolerance:\n",
    "            break\n",
    "        x = x_new\n",
    "\n",
    "    return x_new\n",
    "\n",
    "# Parameters\n",
    "N = 1000\n",
    "\n",
    "# restart probability r\n",
    "r = 0.1\n",
    "\n",
    "# the transition matrix P\n",
    "P = np.zeros((N + 1, N + 1))\n",
    "\n",
    "#\n",
    "\n",
    "\n",
    "# PageRank algorithm\n",
    "stationary_distribution = power_method(P)\n",
    "\n",
    "# Calculating the PageRank of the ruin state (state 0)\n",
    "ruin_state_pagerank = stationary_distribution[0]\n",
    "\n",
    "print(f\"PageRank of the ruin state for r = {r} and N = {N}: {ruin_state_pagerank:.6f}\")\n"
   ]
  },
  {
   "cell_type": "code",
   "execution_count": null,
   "id": "34a8c8c7",
   "metadata": {},
   "outputs": [],
   "source": []
  }
 ],
 "metadata": {
  "kernelspec": {
   "display_name": "Python 3 (ipykernel)",
   "language": "python",
   "name": "python3"
  },
  "language_info": {
   "codemirror_mode": {
    "name": "ipython",
    "version": 3
   },
   "file_extension": ".py",
   "mimetype": "text/x-python",
   "name": "python",
   "nbconvert_exporter": "python",
   "pygments_lexer": "ipython3",
   "version": "3.9.13"
  }
 },
 "nbformat": 4,
 "nbformat_minor": 5
}
