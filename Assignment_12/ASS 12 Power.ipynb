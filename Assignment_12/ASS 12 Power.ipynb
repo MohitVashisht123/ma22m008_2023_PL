{
 "cells": [
  {
   "cell_type": "markdown",
   "id": "c2651eea",
   "metadata": {},
   "source": [
    "# Power method for large graphs"
   ]
  },
  {
   "cell_type": "code",
   "execution_count": 5,
   "id": "6142785f",
   "metadata": {},
   "outputs": [
    {
     "name": "stdout",
     "output_type": "stream",
     "text": [
      "Stationary Distribution:\n",
      "[ -4.32482062  13.95818418 -18.90262259  20.19762513 -18.92256379\n",
      "  16.06912191 -12.46553068   8.74336524  -5.33622958   2.49983969\n",
      "  -0.5163689 ]\n"
     ]
    }
   ],
   "source": [
    "# TASK 1:\n",
    "import numpy as np\n",
    "\n",
    "def gambler_ruin_stationary_distribution(p, N):\n",
    "    # Transition matrix \n",
    "    P = np.zeros((N + 1, N + 1))\n",
    "\n",
    "    for i in range(1, N):\n",
    "        P[i, i - 1] = 1 - p\n",
    "        P[i, i + 1] = p\n",
    "\n",
    "    P[0, 0] = P[N, N] = 1\n",
    "    P[0, 1] = P[N, N - 1] = p\n",
    "\n",
    "    # Compute the stationary distribution using eigenvectors\n",
    "    _, eigenvectors = np.linalg.eig(P.T)\n",
    "\n",
    "    \n",
    "    stationary_distribution = eigenvectors[:, 0] / np.sum(eigenvectors[:, 0])\n",
    "\n",
    "    return stationary_distribution\n",
    "\n",
    "# Parameters\n",
    "p_value = 0.4\n",
    "N_value = 10\n",
    "\n",
    "# Computing stationary distribution\n",
    "stationary_dist = gambler_ruin_stationary_distribution(p_value, N_value)\n",
    "\n",
    "print(\"Stationary Distribution:\")\n",
    "print(stationary_dist)\n"
   ]
  },
  {
   "cell_type": "code",
   "execution_count": 6,
   "id": "8c117a62",
   "metadata": {},
   "outputs": [
    {
     "name": "stdout",
     "output_type": "stream",
     "text": [
      "PageRank with restart probability 0.1:\n",
      "[0.05607959 0.10441917 0.09968164 0.09689333 0.09543508 0.09498238\n",
      " 0.09543508 0.09689333 0.09968164 0.10441917 0.05607959]\n",
      "\n",
      "PageRank with restart probability 0.01:\n",
      "[0.05073077 0.10064907 0.10003494 0.0996036  0.09934948 0.09926429\n",
      " 0.09934948 0.0996036  0.10003494 0.10064907 0.05073077]\n",
      "\n",
      "PageRank with restart probability 0.001:\n",
      "[0.05174531 0.09672683 0.10334545 0.09661821 0.10327315 0.0965821\n",
      " 0.10327315 0.09661821 0.10334545 0.09672683 0.05174531]\n",
      "\n",
      "PageRank with restart probability 0.0001:\n",
      "[0.05412017 0.09178147 0.1082258  0.09177057 0.10821853 0.09176693\n",
      " 0.10821853 0.09177057 0.1082258  0.09178147 0.05412017]\n",
      "\n"
     ]
    }
   ],
   "source": [
    "import numpy as np\n",
    "\n",
    "def pagerank_iterative(adj_matrix, restart_prob, max_iterations=1000, tol=1e-6):\n",
    "    n = len(adj_matrix)\n",
    "    teleport_prob = np.ones(n) / n\n",
    "    P = (1 - restart_prob) * adj_matrix + restart_prob * np.outer(np.ones(n), teleport_prob)\n",
    "\n",
    "    # Initializing PageRank vector\n",
    "    pagerank_vector = np.ones(n) / n\n",
    "\n",
    "    # Power iteration\n",
    "    for _ in range(max_iterations):\n",
    "        new_pagerank = np.dot(P.T, pagerank_vector)\n",
    "\n",
    "        # Check for convergence\n",
    "        if np.linalg.norm(new_pagerank - pagerank_vector, 1) < tol:\n",
    "            break\n",
    "\n",
    "        pagerank_vector = new_pagerank\n",
    "\n",
    "    return pagerank_vector / np.sum(pagerank_vector)\n",
    "\n",
    "# Parameters\n",
    "N = 10\n",
    "restart_probs = [0.1, 0.01, 1e-3, 1e-4]\n",
    "\n",
    "# Adjacency matrix for random walk\n",
    "adjacency_matrix = np.zeros((N + 1, N + 1))\n",
    "for i in range(1, N):\n",
    "    adjacency_matrix[i, i - 1] = 0.5\n",
    "    adjacency_matrix[i, i + 1] = 0.5\n",
    "adjacency_matrix[0, 1] = 1\n",
    "adjacency_matrix[N, N - 1] = 1\n",
    "\n",
    "# Compute PageRank for different restart probabilities using iterative method\n",
    "for restart_prob in restart_probs:\n",
    "    pagerank_vector_iterative = pagerank_iterative(adjacency_matrix, restart_prob)\n",
    "    print(f\"PageRank with restart probability {restart_prob} (iterative):\")\n",
    "    print(pagerank_vector_iterative)\n",
    "    print()\n"
   ]
  },
  {
   "cell_type": "code",
   "execution_count": 7,
   "id": "8ddb57a3",
   "metadata": {},
   "outputs": [
    {
     "name": "stdout",
     "output_type": "stream",
     "text": [
      "PageRank for the ruin state:\n",
      "[0.000999 0.000999 0.000999 ... 0.000999 0.000999 0.000999]\n"
     ]
    }
   ],
   "source": [
    "import numpy as np\n",
    "\n",
    "def gambler_ruin_pagerank_iterative(N, restart_prob, max_iterations=1000, tol=1e-6):\n",
    "    # Transition matrix for Gambler's ruin\n",
    "    P = np.zeros((N + 1, N + 1))\n",
    "\n",
    "    for i in range(1, N):\n",
    "        P[i, i - 1] = 0.5\n",
    "        P[i, i + 1] = 0.5\n",
    "\n",
    "    P[0, 1] = 1\n",
    "    P[N, N - 1] = 1\n",
    "\n",
    "    # Initialize PageRank vector\n",
    "    pagerank_vector = np.ones(N + 1) / (N + 1)\n",
    "\n",
    "    # Power iteration\n",
    "    for _ in range(max_iterations):\n",
    "        new_pagerank = (1 - restart_prob) * np.dot(P, pagerank_vector) + restart_prob / (N + 1)\n",
    "        \n",
    "        # Check for convergence\n",
    "        if np.linalg.norm(new_pagerank - pagerank_vector, 1) < tol:\n",
    "            break\n",
    "        \n",
    "        pagerank_vector = new_pagerank\n",
    "\n",
    "    return pagerank_vector / np.sum(pagerank_vector)\n",
    "\n",
    "# Parameters\n",
    "N_value = 1000\n",
    "restart_prob = 0.1\n",
    "\n",
    "# Compute PageRank for ruin state using iterative method\n",
    "pagerank_ruin_iterative = gambler_ruin_pagerank_iterative(N_value, restart_prob)\n",
    "\n",
    "print(\"PageRank for the ruin state (iterative):\")\n",
    "print(pagerank_ruin_iterative)\n"
   ]
  },
  {
   "cell_type": "code",
   "execution_count": 8,
   "id": "58f668d8",
   "metadata": {},
   "outputs": [
    {
     "name": "stdout",
     "output_type": "stream",
     "text": [
      "PageRank for the ruin state using the power method:\n",
      "[9.99992363e-06 9.99992363e-06 9.99992363e-06 ... 9.99992363e-06\n",
      " 9.99992363e-06 9.99992363e-06]\n"
     ]
    }
   ],
   "source": [
    "# TASK 4\n",
    "\n",
    "import numpy as np\n",
    "\n",
    "def apply_matrix_to_vector(P, x):\n",
    "    return np.dot(P.T, x)\n",
    "\n",
    "def power_method(x, aPt, r=0.1, maxn=1000, tol=1e-10):\n",
    "    for n in range(1, maxn + 1):\n",
    "        new_x = aPt(x)\n",
    "        if np.linalg.norm(new_x - x, 1) < tol:\n",
    "            break\n",
    "        x = new_x\n",
    "\n",
    "    return x\n",
    "\n",
    "# Parameters\n",
    "N_value = 100000\n",
    "restart_prob = 0.1\n",
    "\n",
    "# Define the transition matrix function for Gambler's ruin\n",
    "def gambler_ruin_transition_matrix(x):\n",
    "    N = len(x) - 1\n",
    "    result = np.zeros_like(x)\n",
    "    result[1:N] = 0.5 * (x[0:N-1] + x[2:N+1])\n",
    "    result[0] = x[1]\n",
    "    result[N] = x[N-1]\n",
    "    return (1 - restart_prob) * result + restart_prob / (N + 1) * np.sum(x)\n",
    "\n",
    "# Initialize a random initial probability distribution\n",
    "initial_distribution = np.random.rand(N_value + 1)\n",
    "initial_distribution /= np.sum(initial_distribution)\n",
    "\n",
    "# Compute PageRank using the power method\n",
    "pagerank_ruin_power = power_method(initial_distribution, gambler_ruin_transition_matrix, restart_prob)\n",
    "\n",
    "print(\"PageRank for the ruin state using the power method:\")\n",
    "print(pagerank_ruin_power)\n"
   ]
  },
  {
   "cell_type": "code",
   "execution_count": null,
   "id": "8d5bad24",
   "metadata": {},
   "outputs": [],
   "source": []
  }
 ],
 "metadata": {
  "kernelspec": {
   "display_name": "Python 3 (ipykernel)",
   "language": "python",
   "name": "python3"
  },
  "language_info": {
   "codemirror_mode": {
    "name": "ipython",
    "version": 3
   },
   "file_extension": ".py",
   "mimetype": "text/x-python",
   "name": "python",
   "nbconvert_exporter": "python",
   "pygments_lexer": "ipython3",
   "version": "3.9.13"
  }
 },
 "nbformat": 4,
 "nbformat_minor": 5
}
