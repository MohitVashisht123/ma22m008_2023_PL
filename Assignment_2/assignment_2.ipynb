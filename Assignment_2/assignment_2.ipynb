{
 "cells": [
  {
   "cell_type": "code",
   "execution_count": 10,
   "id": "e6f69c0c",
   "metadata": {},
   "outputs": [
    {
     "name": "stdout",
     "output_type": "stream",
     "text": [
      "Iteration1 pointer 3.5\n",
      "Iteration2 pointer 2.25\n",
      "Iteration3 pointer 1.625\n",
      "Iteration4 pointer 1.9375\n",
      "Iteration5 pointer 2.09375\n",
      "Iteration6 pointer 2.171875\n",
      "Iteration7 pointer 2.1328125\n",
      "Iteration8 pointer 2.15234375\n",
      "Iteration9 pointer 2.162109375\n",
      "Iteration10 pointer 2.1572265625\n",
      "Iteration11 pointer 2.15478515625\n",
      "Iteration12 pointer 2.153564453125\n",
      "Iteration13 pointer 2.1541748046875\n",
      "Iteration14 pointer 2.15447998046875\n",
      "Iteration15 pointer 2.154327392578125\n",
      "Iteration16 pointer 2.1544036865234375\n",
      "Iteration17 pointer 2.1544418334960938\n",
      "Iteration18 pointer 2.1544227600097656\n",
      "Value of the mid 2.1544227600097656\n",
      "Value of function at this point -0.00016612185245357125\n"
     ]
    }
   ],
   "source": [
    "def bisect(f,a,b,tol):\n",
    "#     defining the function\n",
    "    c=0\n",
    "#    Initialising the counter \n",
    "    max=500\n",
    "#     setting the maximum iteration\n",
    "\n",
    "    mid=0\n",
    "    while c<max and (b-a)>tol:\n",
    "#         Setting up while loop for upper bound on iterations and interval\n",
    "        if(f(a)*f(b)>0):\n",
    "            print(\"Select another value of a and b so that the function have opposite values at these points\")\n",
    "#         Root won't be there if this condition exits\n",
    "        mid=(a+b)/2\n",
    "        if(f(mid)==0):\n",
    "            print(\"I got the point\")\n",
    "            return mid\n",
    "        elif(f(a)*f(mid)<0):\n",
    "            b=mid\n",
    "#             Signs are opposite so root is in this interval\n",
    "        else:\n",
    "            a=mid\n",
    "        c+=1\n",
    "        print(f\"Iteration{c} pointer {mid}\")\n",
    "        if((b-a)/2 <tol or c>max):\n",
    "            return mid\n",
    "#         Returning the values if above condition is satisfied\n",
    "        \n",
    "def f(x):\n",
    "   return x**3-10\n",
    "ans=bisect(f,1,6,1e-5)\n",
    "print(\"Value of the mid\",ans)\n",
    "print(\"Value of function at this point\",f(ans))   \n",
    "\n",
    "            "
   ]
  },
  {
   "cell_type": "code",
   "execution_count": null,
   "id": "ab607484",
   "metadata": {},
   "outputs": [],
   "source": []
  }
 ],
 "metadata": {
  "kernelspec": {
   "display_name": "Python 3 (ipykernel)",
   "language": "python",
   "name": "python3"
  },
  "language_info": {
   "codemirror_mode": {
    "name": "ipython",
    "version": 3
   },
   "file_extension": ".py",
   "mimetype": "text/x-python",
   "name": "python",
   "nbconvert_exporter": "python",
   "pygments_lexer": "ipython3",
   "version": "3.9.13"
  }
 },
 "nbformat": 4,
 "nbformat_minor": 5
}
