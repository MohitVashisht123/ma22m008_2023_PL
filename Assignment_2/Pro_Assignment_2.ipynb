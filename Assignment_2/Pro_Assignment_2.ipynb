{
 "cells": [
  {
   "cell_type": "code",
   "execution_count": 15,
   "id": "f197c8e1",
   "metadata": {},
   "outputs": [
    {
     "name": "stdout",
     "output_type": "stream",
     "text": [
      "Iteration1 pointer 5.5\n",
      "Iteration2 pointer 3.25\n",
      "Iteration3 pointer 2.125\n",
      "Iteration4 pointer 2.6875\n",
      "Iteration5 pointer 2.40625\n",
      "Iteration6 pointer 2.265625\n",
      "Iteration7 pointer 2.1953125\n",
      "Iteration8 pointer 2.16015625\n",
      "Iteration9 pointer 2.142578125\n",
      "Iteration10 pointer 2.1513671875\n",
      "Iteration11 pointer 2.15576171875\n",
      "Iteration12 pointer 2.153564453125\n",
      "Iteration13 pointer 2.1546630859375\n",
      "Iteration14 pointer 2.15411376953125\n",
      "Iteration15 pointer 2.154388427734375\n",
      "Iteration16 pointer 2.1545257568359375\n",
      "Iteration17 pointer 2.1544570922851562\n",
      "Iteration18 pointer 2.1544227600097656\n",
      "Iteration19 pointer 2.154439926147461\n",
      "Value of the mid 2.154439926147461\n",
      "Value of function at this point 7.291186398816762e-05\n"
     ]
    }
   ],
   "source": [
    "def f(x):\n",
    "    return x**3-10\n",
    "    \n",
    "def bisect(f):\n",
    "        \n",
    "#     defining the function\n",
    "    a=1\n",
    "    b=10\n",
    "    tol=1e-5\n",
    "# setting tolerance value\n",
    "    c=0\n",
    "#    Initialising the counter \n",
    "    max=500\n",
    "#     setting the maximum iteration\n",
    "\n",
    "    mid=0\n",
    "    if(f(a)*f(b)>0):\n",
    "            print(\"Select another value of a and b so that the function have opposite values at these points\")\n",
    "            #         Root won't be there if this condition exist\n",
    "    while c<max and (b-a)>tol:\n",
    "#         Setting up while loop for upper bound on iterations and interval\n",
    "        \n",
    "\n",
    "        mid=(a+b)/2\n",
    "        if(f(mid)==0):\n",
    "            print(\"I got the point\")\n",
    "            return mid\n",
    "        elif(f(b)*f(mid)<0):\n",
    "            a=mid\n",
    "#             Signs are opposite so root is in this interval\n",
    "        else:\n",
    "            b=mid\n",
    "        c+=1\n",
    "        print(f\"Iteration{c} pointer {mid}\")\n",
    "        if((b-a)/2 <tol or c>max):\n",
    "            return mid\n",
    "#         Returning the values if above condition is satisfied\n",
    "ans=bisect(f)\n",
    "print(\"Value of the mid\",ans)\n",
    "print(\"Value of function at this point\",f(ans))   \n",
    "\n",
    "            "
   ]
  },
  {
   "cell_type": "code",
   "execution_count": null,
   "id": "03ee67cc",
   "metadata": {},
   "outputs": [],
   "source": []
  }
 ],
 "metadata": {
  "kernelspec": {
   "display_name": "Python 3 (ipykernel)",
   "language": "python",
   "name": "python3"
  },
  "language_info": {
   "codemirror_mode": {
    "name": "ipython",
    "version": 3
   },
   "file_extension": ".py",
   "mimetype": "text/x-python",
   "name": "python",
   "nbconvert_exporter": "python",
   "pygments_lexer": "ipython3",
   "version": "3.9.13"
  }
 },
 "nbformat": 4,
 "nbformat_minor": 5
}
